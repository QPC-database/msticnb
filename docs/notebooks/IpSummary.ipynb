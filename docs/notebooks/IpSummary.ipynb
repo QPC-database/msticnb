{
 "cells": [
  {
   "cell_type": "markdown",
   "metadata": {},
   "source": [
    "# IP Summary"
   ]
  },
  {
   "cell_type": "code",
   "execution_count": 1,
   "metadata": {
    "ExecuteTime": {
     "end_time": "2020-02-28T21:13:24.369073Z",
     "start_time": "2020-02-28T21:13:24.260137Z"
    }
   },
   "outputs": [
    {
     "data": {
      "text/html": [
       "<hr><h4>Starting Notebook initialization...</h4>"
      ],
      "text/plain": [
       "<IPython.core.display.HTML object>"
      ]
     },
     "metadata": {},
     "output_type": "display_data"
    },
    {
     "data": {
      "text/html": [
       "msticpy version installed: 1.1.0 latest published: 1.0.0<br>Latest version is installed.<br> <br>"
      ],
      "text/plain": [
       "<IPython.core.display.HTML object>"
      ]
     },
     "metadata": {},
     "output_type": "display_data"
    },
    {
     "data": {
      "text/html": [
       "Processing imports.... <br>"
      ],
      "text/plain": [
       "<IPython.core.display.HTML object>"
      ]
     },
     "metadata": {},
     "output_type": "display_data"
    },
    {
     "data": {
      "text/html": [
       "Imported: pd (pandas), IPython.get_ipython, IPython.display.display, IPython.display.HTML, IPython.display.Markdown, widgets (ipywidgets), pathlib.Path, plt (matplotlib.pyplot), matplotlib.MatplotlibDeprecationWarning, sns (seaborn), np (numpy), msticpy.data.QueryProvider, msticpy.nbtools.foliummap.FoliumMap, msticpy.common.utility.md, msticpy.common.utility.md_warn, msticpy.common.wsconfig.WorkspaceConfig, msticpy.datamodel.pivot.Pivot, msticpy.datamodel.entities <br>"
      ],
      "text/plain": [
       "<IPython.core.display.HTML object>"
      ]
     },
     "metadata": {},
     "output_type": "display_data"
    },
    {
     "data": {
      "text/html": [
       "Checking configuration.... <br>"
      ],
      "text/plain": [
       "<IPython.core.display.HTML object>"
      ]
     },
     "metadata": {},
     "output_type": "display_data"
    },
    {
     "data": {
      "text/html": [
       "Setting notebook options.... <br>"
      ],
      "text/plain": [
       "<IPython.core.display.HTML object>"
      ]
     },
     "metadata": {},
     "output_type": "display_data"
    },
    {
     "data": {
      "text/html": [
       " <br>"
      ],
      "text/plain": [
       "<IPython.core.display.HTML object>"
      ]
     },
     "metadata": {},
     "output_type": "display_data"
    },
    {
     "data": {
      "text/html": [
       "<h4>Notebook initialization complete</h4>"
      ],
      "text/plain": [
       "<IPython.core.display.HTML object>"
      ]
     },
     "metadata": {},
     "output_type": "display_data"
    }
   ],
   "source": [
    "import sys\n",
    "import os\n",
    "from IPython.display import display, HTML, Markdown\n",
    "\n",
    "from msticpy.nbtools.nbinit import init_notebook\n",
    "init_notebook(namespace=globals());"
   ]
  },
  {
   "cell_type": "code",
   "execution_count": 2,
   "metadata": {},
   "outputs": [
    {
     "name": "stdout",
     "output_type": "stream",
     "text": [
      "Notebooklets: 8 notebooklets loaded.\n"
     ]
    }
   ],
   "source": [
    "import msticnb as nb"
   ]
  },
  {
   "cell_type": "code",
   "execution_count": 3,
   "metadata": {},
   "outputs": [
    {
     "name": "stdout",
     "output_type": "stream",
     "text": [
      "Please wait. Loading Kqlmagic extension...\n"
     ]
    },
    {
     "data": {
      "text/html": [
       "<!DOCTYPE html>\n",
       "            <html><body>\n",
       "            <div style=''>\n",
       "            <a href='http://127.0.0.1:28109/webbrowser?url=http%3A//127.0.0.1%3A28109/files/.kqlmagic/temp_files/3d9d8f4e-0280-40c9-af35-c017560217ec/popup__52b1ab41-869e-4138-9e40-2a4457f09bf0_at_loganalytics_schema.html%3Fkernelid%3D3d9d8f4e-0280-40c9-af35-c017560217ec&kernelid=3d9d8f4e-0280-40c9-af35-c017560217ec' style='padding: 2px 6px 2px 6px; color: #333333; background-color: #EEEEEE; border-top: 1px solid #CCCCCC; border-right: 1px solid #333333; border-bottom: 1px solid #333333; border-left: 1px solid #CCCCCC' target='popup__52b1ab41-869e-4138-9e40-2a4457f09bf0_at_loganalytics_schema'>popup schema 52b1ab41-869e-4138-9e40-2a4457f09bf0@loganalytics</a>\n",
       "            </div>\n",
       "            </body></html>"
      ],
      "text/plain": [
       "<IPython.core.display.HTML object>"
      ]
     },
     "metadata": {},
     "output_type": "display_data"
    },
    {
     "data": {
      "text/html": [
       "\n",
       "This product includes GeoLite2 data created by MaxMind, available from\n",
       "<a href=\"https://www.maxmind.com\">https://www.maxmind.com</a>.\n"
      ],
      "text/plain": [
       "<IPython.core.display.HTML object>"
      ]
     },
     "metadata": {},
     "output_type": "display_data"
    },
    {
     "name": "stdout",
     "output_type": "stream",
     "text": [
      "Using Open PageRank. See https://www.domcop.com/openpagerank/what-is-openpagerank\n",
      "Notebooklets: Loaded providers: AzureSentinel, geolitelookup, tilookup\n",
      "Using Open PageRank. See https://www.domcop.com/openpagerank/what-is-openpagerank\n"
     ]
    },
    {
     "data": {
      "text/html": [
       "\n",
       "This library uses services provided by ipstack.\n",
       "<a href=\"https://ipstack.com\">https://ipstack.com</a>"
      ],
      "text/plain": [
       "<IPython.core.display.HTML object>"
      ]
     },
     "metadata": {},
     "output_type": "display_data"
    }
   ],
   "source": [
    "nb.init(query_provider=\"AzureSentinel\")"
   ]
  },
  {
   "cell_type": "code",
   "execution_count": 4,
   "metadata": {},
   "outputs": [
    {
     "data": {
      "application/vnd.jupyter.widget-view+json": {
       "model_id": "e3f03862ba154353b39efcbbe6c95bf2",
       "version_major": 2,
       "version_minor": 0
      },
      "text/plain": [
       "VBox(children=(HTML(value='<h4>Set query time boundaries</h4>'), HBox(children=(DatePicker(value=datetime.date…"
      ]
     },
     "metadata": {},
     "output_type": "display_data"
    }
   ],
   "source": [
    "qry_time = nbwidgets.QueryTime(units=\"day\")\n",
    "qry_time"
   ]
  },
  {
   "cell_type": "code",
   "execution_count": 6,
   "metadata": {},
   "outputs": [],
   "source": [
    "# qry = \"\"\"\n",
    "# SecurityAlert\n",
    "# | where TimeGenerated > datetime({start})\n",
    "# | where TimeGenerated < datetime({end})\n",
    "# | take 20\n",
    "# \"\"\"\n",
    "# qry_prov.exec_query(qry.format(start=qry_time.start, end=qry_time.end))"
   ]
  },
  {
   "cell_type": "code",
   "execution_count": 7,
   "metadata": {},
   "outputs": [],
   "source": [
    "# nb.qry_prov.connect(WorkspaceConfig(workspace=\"CyberSOC\").code_connect_str)"
   ]
  },
  {
   "cell_type": "code",
   "execution_count": 5,
   "metadata": {},
   "outputs": [],
   "source": [
    "from msticnb.nb.azsent.network import ip_summary\n",
    "\n",
    "ip_cls = ip_summary.IpAddressSummary\n",
    "ip_summary = ip_cls()"
   ]
  },
  {
   "cell_type": "code",
   "execution_count": 9,
   "metadata": {},
   "outputs": [
    {
     "name": "stdout",
     "output_type": "stream",
     "text": [
      "Help on method run in module msticnb.nb.azsent.network.ip_summary:\n",
      "\n",
      "run(value: Any = None, data: Union[pandas.core.frame.DataFrame, NoneType] = None, timespan: Union[msticpy.common.timespan.TimeSpan, NoneType] = None, options: Union[Iterable[str], NoneType] = None, **kwargs) -> msticnb.nb.azsent.network.ip_summary.IpSummaryResult method of msticnb.nb.azsent.network.ip_summary.IpAddressSummary instance\n",
      "    Return XYZ summary.\n",
      "    \n",
      "    Parameters\n",
      "    ----------\n",
      "    value : str\n",
      "        IP Address - The key for searches\n",
      "    data : Optional[pd.DataFrame], optional\n",
      "        Not supported for this notebooklet.\n",
      "    timespan : TimeSpan\n",
      "        Timespan for queries\n",
      "    options : Optional[Iterable[str]], optional\n",
      "        List of options to use, by default None.\n",
      "        A value of None means use default options.\n",
      "        Options prefixed with \"+\" will be added to the default options.\n",
      "        To see the list of available options type `help(cls)` where\n",
      "        \"cls\" is the notebooklet class or an instance of this class.\n",
      "    \n",
      "    Returns\n",
      "    -------\n",
      "    IpSummaryResult\n",
      "        Result object with attributes for each result type.\n",
      "    \n",
      "    Raises\n",
      "    ------\n",
      "    MsticnbMissingParameterError\n",
      "        If required parameters are missing\n",
      "\n"
     ]
    }
   ],
   "source": [
    "help(ip_summary.run)"
   ]
  },
  {
   "cell_type": "code",
   "execution_count": 7,
   "metadata": {},
   "outputs": [],
   "source": [
    "\n",
    "dest = \"10.240.1.135\"\n",
    "src = \"165.225.39.73\"\n"
   ]
  },
  {
   "cell_type": "code",
   "execution_count": 8,
   "metadata": {},
   "outputs": [
    {
     "data": {
      "text/html": [
       "<h1>IP Address summary</h1>"
      ],
      "text/plain": [
       "<IPython.core.display.HTML object>"
      ]
     },
     "metadata": {},
     "output_type": "display_data"
    },
    {
     "data": {
      "text/html": [
       "Retrieving data for IP Address Data and plots are stored in the result class returned by this function."
      ],
      "text/plain": [
       "<IPython.core.display.HTML object>"
      ]
     },
     "metadata": {},
     "output_type": "display_data"
    },
    {
     "data": {
      "text/html": [
       "<p style=''>165.225.39.73, ip address type: Public</p>"
      ],
      "text/plain": [
       "<IPython.core.display.HTML object>"
      ]
     },
     "metadata": {},
     "output_type": "display_data"
    },
    {
     "data": {
      "text/html": [
       "<h2>Azure Network Analytics Topology record for the IP.</h2>"
      ],
      "text/plain": [
       "<IPython.core.display.HTML object>"
      ]
     },
     "metadata": {},
     "output_type": "display_data"
    },
    {
     "data": {
      "text/html": [
       "(only available for Azure VMs)"
      ],
      "text/plain": [
       "<IPython.core.display.HTML object>"
      ]
     },
     "metadata": {},
     "output_type": "display_data"
    },
    {
     "data": {
      "text/html": [
       "<p style=''>Getting data from AzureNetworkAnalytics topology...</p>"
      ],
      "text/plain": [
       "<IPython.core.display.HTML object>"
      ]
     },
     "metadata": {},
     "output_type": "display_data"
    },
    {
     "data": {
      "text/html": [
       "<p style=''>Could not get Azure network interface record</p>"
      ],
      "text/plain": [
       "<IPython.core.display.HTML object>"
      ]
     },
     "metadata": {},
     "output_type": "display_data"
    },
    {
     "data": {
      "text/html": [
       "<h2>Azure Sentinel heartbeat record for the IP.</h2>"
      ],
      "text/plain": [
       "<IPython.core.display.HTML object>"
      ]
     },
     "metadata": {},
     "output_type": "display_data"
    },
    {
     "data": {
      "text/html": [
       "(only available for IP addresses that belong to the subscription)"
      ],
      "text/plain": [
       "<IPython.core.display.HTML object>"
      ]
     },
     "metadata": {},
     "output_type": "display_data"
    },
    {
     "data": {
      "text/html": [
       "<p style=''>Getting data from Heartbeat...</p>"
      ],
      "text/plain": [
       "<IPython.core.display.HTML object>"
      ]
     },
     "metadata": {},
     "output_type": "display_data"
    },
    {
     "data": {
      "text/html": [
       "<p style=''>Could not get Azure Heartbeat record</p>"
      ],
      "text/plain": [
       "<IPython.core.display.HTML object>"
      ]
     },
     "metadata": {},
     "output_type": "display_data"
    },
    {
     "data": {
      "text/html": [
       "<h2>Azure VMComputer record for the IP.</h2>"
      ],
      "text/plain": [
       "<IPython.core.display.HTML object>"
      ]
     },
     "metadata": {},
     "output_type": "display_data"
    },
    {
     "data": {
      "text/html": [
       "(only available for Azure VMs)"
      ],
      "text/plain": [
       "<IPython.core.display.HTML object>"
      ]
     },
     "metadata": {},
     "output_type": "display_data"
    },
    {
     "data": {
      "text/html": [
       "<p style=''>Getting data from VMComputer...</p>"
      ],
      "text/plain": [
       "<IPython.core.display.HTML object>"
      ]
     },
     "metadata": {},
     "output_type": "display_data"
    },
    {
     "data": {
      "text/html": [
       "<p style=''>Could not get VMComputer record</p>"
      ],
      "text/plain": [
       "<IPython.core.display.HTML object>"
      ]
     },
     "metadata": {},
     "output_type": "display_data"
    },
    {
     "data": {
      "text/html": [
       "<h2>Azure Sentinel alerts related to the IP.</h2>"
      ],
      "text/plain": [
       "<IPython.core.display.HTML object>"
      ]
     },
     "metadata": {},
     "output_type": "display_data"
    },
    {
     "data": {
      "text/html": [
       "Use `nblt.browse_alerts()` to retrieve a list of alerts."
      ],
      "text/plain": [
       "<IPython.core.display.HTML object>"
      ]
     },
     "metadata": {},
     "output_type": "display_data"
    },
    {
     "data": {
      "text/html": [
       "<p style=''>Getting data from RelatedAlerts...</p>"
      ],
      "text/plain": [
       "<IPython.core.display.HTML object>"
      ]
     },
     "metadata": {},
     "output_type": "display_data"
    },
    {
     "data": {
      "text/html": [
       "<p style=''>No events from related alerts found.</p>"
      ],
      "text/plain": [
       "<IPython.core.display.HTML object>"
      ]
     },
     "metadata": {},
     "output_type": "display_data"
    },
    {
     "data": {
      "text/html": [
       "<h2>Public IP data (GeoIP, ThreatIntel, Passive DNS, VPS membership)</h2>"
      ],
      "text/plain": [
       "<IPython.core.display.HTML object>"
      ]
     },
     "metadata": {},
     "output_type": "display_data"
    },
    {
     "data": {
      "text/html": [
       "<p style=''>Whois data retrieved</p>"
      ],
      "text/plain": [
       "<IPython.core.display.HTML object>"
      ]
     },
     "metadata": {},
     "output_type": "display_data"
    },
    {
     "data": {
      "text/html": [
       "<p style=''>WhoIs data</p>"
      ],
      "text/plain": [
       "<IPython.core.display.HTML object>"
      ]
     },
     "metadata": {},
     "output_type": "display_data"
    },
    {
     "data": {
      "text/html": [
       "<div>\n",
       "<style scoped>\n",
       "    .dataframe tbody tr th:only-of-type {\n",
       "        vertical-align: middle;\n",
       "    }\n",
       "\n",
       "    .dataframe tbody tr th {\n",
       "        vertical-align: top;\n",
       "    }\n",
       "\n",
       "    .dataframe thead th {\n",
       "        text-align: right;\n",
       "    }\n",
       "</style>\n",
       "<table border=\"1\" class=\"dataframe\">\n",
       "  <thead>\n",
       "    <tr style=\"text-align: right;\">\n",
       "      <th></th>\n",
       "      <th>nir</th>\n",
       "      <th>asn_registry</th>\n",
       "      <th>asn</th>\n",
       "      <th>asn_cidr</th>\n",
       "      <th>asn_country_code</th>\n",
       "      <th>asn_date</th>\n",
       "      <th>asn_description</th>\n",
       "      <th>query</th>\n",
       "      <th>nets</th>\n",
       "      <th>raw</th>\n",
       "      <th>referral</th>\n",
       "      <th>raw_referral</th>\n",
       "    </tr>\n",
       "  </thead>\n",
       "  <tbody>\n",
       "    <tr>\n",
       "      <th>0</th>\n",
       "      <td>None</td>\n",
       "      <td>arin</td>\n",
       "      <td>22616</td>\n",
       "      <td>165.225.38.0/23</td>\n",
       "      <td>US</td>\n",
       "      <td>2014-11-14</td>\n",
       "      <td>ZSCALER-SJC1, US</td>\n",
       "      <td>165.225.39.73</td>\n",
       "      <td>{'cidr': '165.225.0.0/17', 'name': 'ZSCAL', 'handle': 'NET-165-225-0-0-1', 'range': '165.225.0.0...</td>\n",
       "      <td>None</td>\n",
       "      <td>None</td>\n",
       "      <td>None</td>\n",
       "    </tr>\n",
       "  </tbody>\n",
       "</table>\n",
       "</div>"
      ],
      "text/plain": [
       "    nir asn_registry    asn         asn_cidr asn_country_code    asn_date  \\\n",
       "0  None         arin  22616  165.225.38.0/23               US  2014-11-14   \n",
       "\n",
       "    asn_description          query  \\\n",
       "0  ZSCALER-SJC1, US  165.225.39.73   \n",
       "\n",
       "                                                                                                  nets  \\\n",
       "0  {'cidr': '165.225.0.0/17', 'name': 'ZSCAL', 'handle': 'NET-165-225-0-0-1', 'range': '165.225.0.0...   \n",
       "\n",
       "    raw referral raw_referral  \n",
       "0  None     None         None  "
      ]
     },
     "metadata": {},
     "output_type": "display_data"
    },
    {
     "data": {
      "text/html": [
       "<p style=''>GeoLocation data retrieved</p>"
      ],
      "text/plain": [
       "<IPython.core.display.HTML object>"
      ]
     },
     "metadata": {},
     "output_type": "display_data"
    },
    {
     "data": {
      "text/html": [
       "<h3>geolocation</h3>{&nbsp;'AdditionalData':&nbsp;{},<br>&nbsp;&nbsp;'City':&nbsp;'New&nbsp;York',<br>&nbsp;&nbsp;'CountryCode':&nbsp;'US',<br>&nbsp;&nbsp;'CountryName':&nbsp;'United&nbsp;States',<br>&nbsp;&nbsp;'Latitude':&nbsp;40.7809,<br>&nbsp;&nbsp;'Longitude':&nbsp;-73.9502,<br>&nbsp;&nbsp;'State':&nbsp;'New&nbsp;York',<br>&nbsp;&nbsp;'Type':&nbsp;'geolocation',<br>&nbsp;&nbsp;'edges':&nbsp;set()}"
      ],
      "text/plain": [
       "GeoLocation(CountryCode=US, CountryName=United States, State=New York, City=New York, Longit...)"
      ]
     },
     "metadata": {},
     "output_type": "display_data"
    },
    {
     "data": {
      "text/html": [
       "<p style=''>Getting data from Threat Intel...</p>"
      ],
      "text/plain": [
       "<IPython.core.display.HTML object>"
      ]
     },
     "metadata": {},
     "output_type": "display_data"
    },
    {
     "data": {
      "text/html": [
       "<p style=''>1 TI result(s) of severity 'warning' or above found.</p>"
      ],
      "text/plain": [
       "<IPython.core.display.HTML object>"
      ]
     },
     "metadata": {},
     "output_type": "display_data"
    },
    {
     "data": {
      "text/html": [
       "<div>\n",
       "<style scoped>\n",
       "    .dataframe tbody tr th:only-of-type {\n",
       "        vertical-align: middle;\n",
       "    }\n",
       "\n",
       "    .dataframe tbody tr th {\n",
       "        vertical-align: top;\n",
       "    }\n",
       "\n",
       "    .dataframe thead th {\n",
       "        text-align: right;\n",
       "    }\n",
       "</style>\n",
       "<table border=\"1\" class=\"dataframe\">\n",
       "  <thead>\n",
       "    <tr style=\"text-align: right;\">\n",
       "      <th></th>\n",
       "      <th>Ioc</th>\n",
       "      <th>IocType</th>\n",
       "      <th>QuerySubtype</th>\n",
       "      <th>Provider</th>\n",
       "      <th>Result</th>\n",
       "      <th>Severity</th>\n",
       "      <th>Details</th>\n",
       "      <th>RawResult</th>\n",
       "      <th>Reference</th>\n",
       "      <th>Status</th>\n",
       "    </tr>\n",
       "  </thead>\n",
       "  <tbody>\n",
       "    <tr>\n",
       "      <th>OTX</th>\n",
       "      <td>165.225.39.73</td>\n",
       "      <td>ipv4</td>\n",
       "      <td>None</td>\n",
       "      <td>OTX</td>\n",
       "      <td>True</td>\n",
       "      <td>information</td>\n",
       "      <td>{'pulse_count': 0, 'sections_available': ['general', 'geo', 'reputation', 'url_list', 'passive_d...</td>\n",
       "      <td>{'whois': 'http://whois.domaintools.com/165.225.39.73', 'reputation': 0, 'indicator': '165.225.3...</td>\n",
       "      <td>https://otx.alienvault.com/api/v1/indicators/IPv4/165.225.39.73/general</td>\n",
       "      <td>0</td>\n",
       "    </tr>\n",
       "    <tr>\n",
       "      <th>OPR</th>\n",
       "      <td>165.225.39.73</td>\n",
       "      <td>ipv4</td>\n",
       "      <td>None</td>\n",
       "      <td>OPR</td>\n",
       "      <td>False</td>\n",
       "      <td>information</td>\n",
       "      <td>IoC type ipv4 not supported.</td>\n",
       "      <td>None</td>\n",
       "      <td>None</td>\n",
       "      <td>1</td>\n",
       "    </tr>\n",
       "    <tr>\n",
       "      <th>Tor</th>\n",
       "      <td>165.225.39.73</td>\n",
       "      <td>ipv4</td>\n",
       "      <td>None</td>\n",
       "      <td>Tor</td>\n",
       "      <td>True</td>\n",
       "      <td>information</td>\n",
       "      <td>Not found.</td>\n",
       "      <td>None</td>\n",
       "      <td>https://check.torproject.org/exit-addresses</td>\n",
       "      <td>0</td>\n",
       "    </tr>\n",
       "    <tr>\n",
       "      <th>VirusTotal</th>\n",
       "      <td>165.225.39.73</td>\n",
       "      <td>ipv4</td>\n",
       "      <td>None</td>\n",
       "      <td>VirusTotal</td>\n",
       "      <td>True</td>\n",
       "      <td>information</td>\n",
       "      <td>{'verbose_msg': 'IP address in dataset', 'response_code': 1, 'detected_urls': [], 'positives': 0}</td>\n",
       "      <td>{'country': 'US', 'response_code': 1, 'detected_urls': [], 'resolutions': [], 'verbose_msg': 'IP...</td>\n",
       "      <td>https://www.virustotal.com/vtapi/v2/ip-address/report</td>\n",
       "      <td>0</td>\n",
       "    </tr>\n",
       "    <tr>\n",
       "      <th>XForce</th>\n",
       "      <td>165.225.39.73</td>\n",
       "      <td>ipv4</td>\n",
       "      <td>None</td>\n",
       "      <td>XForce</td>\n",
       "      <td>True</td>\n",
       "      <td>warning</td>\n",
       "      <td>{'score': 1, 'cats': {}, 'categoryDescriptions': {}, 'reason': 'Regional Internet Registry', 're...</td>\n",
       "      <td>{'ip': '165.225.39.73', 'history': [{'created': '2012-03-22T07:26:00.000Z', 'reason': 'Regional ...</td>\n",
       "      <td>https://api.xforce.ibmcloud.com/ipr/165.225.39.73</td>\n",
       "      <td>0</td>\n",
       "    </tr>\n",
       "  </tbody>\n",
       "</table>\n",
       "</div>"
      ],
      "text/plain": [
       "                      Ioc IocType QuerySubtype    Provider Result  \\\n",
       "OTX         165.225.39.73    ipv4         None         OTX   True   \n",
       "OPR         165.225.39.73    ipv4         None         OPR  False   \n",
       "Tor         165.225.39.73    ipv4         None         Tor   True   \n",
       "VirusTotal  165.225.39.73    ipv4         None  VirusTotal   True   \n",
       "XForce      165.225.39.73    ipv4         None      XForce   True   \n",
       "\n",
       "               Severity  \\\n",
       "OTX         information   \n",
       "OPR         information   \n",
       "Tor         information   \n",
       "VirusTotal  information   \n",
       "XForce          warning   \n",
       "\n",
       "                                                                                                        Details  \\\n",
       "OTX         {'pulse_count': 0, 'sections_available': ['general', 'geo', 'reputation', 'url_list', 'passive_d...   \n",
       "OPR                                                                                IoC type ipv4 not supported.   \n",
       "Tor                                                                                                  Not found.   \n",
       "VirusTotal    {'verbose_msg': 'IP address in dataset', 'response_code': 1, 'detected_urls': [], 'positives': 0}   \n",
       "XForce      {'score': 1, 'cats': {}, 'categoryDescriptions': {}, 'reason': 'Regional Internet Registry', 're...   \n",
       "\n",
       "                                                                                                      RawResult  \\\n",
       "OTX         {'whois': 'http://whois.domaintools.com/165.225.39.73', 'reputation': 0, 'indicator': '165.225.3...   \n",
       "OPR                                                                                                        None   \n",
       "Tor                                                                                                        None   \n",
       "VirusTotal  {'country': 'US', 'response_code': 1, 'detected_urls': [], 'resolutions': [], 'verbose_msg': 'IP...   \n",
       "XForce      {'ip': '165.225.39.73', 'history': [{'created': '2012-03-22T07:26:00.000Z', 'reason': 'Regional ...   \n",
       "\n",
       "                                                                          Reference  \\\n",
       "OTX         https://otx.alienvault.com/api/v1/indicators/IPv4/165.225.39.73/general   \n",
       "OPR                                                                            None   \n",
       "Tor                                     https://check.torproject.org/exit-addresses   \n",
       "VirusTotal                    https://www.virustotal.com/vtapi/v2/ip-address/report   \n",
       "XForce                            https://api.xforce.ibmcloud.com/ipr/165.225.39.73   \n",
       "\n",
       "           Status  \n",
       "OTX             0  \n",
       "OPR             1  \n",
       "Tor             0  \n",
       "VirusTotal      0  \n",
       "XForce          0  "
      ]
     },
     "metadata": {},
     "output_type": "display_data"
    },
    {
     "data": {
      "text/html": [
       "<p style=''>Use `browse_ti_results()` to view details.</p>"
      ],
      "text/plain": [
       "<IPython.core.display.HTML object>"
      ]
     },
     "metadata": {},
     "output_type": "display_data"
    },
    {
     "data": {
      "text/html": [
       "<p style=''>Getting data from Passive DNS...</p>"
      ],
      "text/plain": [
       "<IPython.core.display.HTML object>"
      ]
     },
     "metadata": {},
     "output_type": "display_data"
    },
    {
     "data": {
      "text/html": [
       "<p style=''>1 Passive DNS results found.</p>"
      ],
      "text/plain": [
       "<IPython.core.display.HTML object>"
      ]
     },
     "metadata": {},
     "output_type": "display_data"
    },
    {
     "name": "stdout",
     "output_type": "stream",
     "text": [
      "Please wait. Getting VPS data...Expected 4 octets in '118.0' <class 'ipaddress.AddressValueError'>\n",
      "Expected 4 octets in '119.0' <class 'ipaddress.AddressValueError'>\n",
      "Expected 4 octets in '94.136.192' <class 'ipaddress.AddressValueError'>\n",
      "Expected 4 octets in '0000' <class 'ipaddress.AddressValueError'>\n",
      "Address cannot be empty <class 'ipaddress.AddressValueError'>\n",
      "done\n"
     ]
    },
    {
     "data": {
      "text/html": [
       "<p style=''>No match for known VPS network</p>"
      ],
      "text/plain": [
       "<IPython.core.display.HTML object>"
      ]
     },
     "metadata": {},
     "output_type": "display_data"
    },
    {
     "data": {
      "text/html": [
       "<p style=''><h3>View the returned results object for more details.</h3></p>"
      ],
      "text/plain": [
       "<IPython.core.display.HTML object>"
      ]
     },
     "metadata": {},
     "output_type": "display_data"
    },
    {
     "data": {
      "text/html": [
       "<p style=''>Additional methods for this class:<br>browse_alerts - 'Return alert browser/viewer.'<br>browse_ti_results - 'Display Threat intel results.'<br>display_alert_timeline - 'Display the alert timeline.'<br>netflow_by_direction - 'Display netflows grouped by direction.'<br>netflow_by_protocol - 'Display netflows grouped by protocol.'<br>netflow_total_by_protocol - 'Display netflows grouped by protocol.'<br>run - 'Return XYZ summary.'</p>"
      ],
      "text/plain": [
       "<IPython.core.display.HTML object>"
      ]
     },
     "metadata": {},
     "output_type": "display_data"
    },
    {
     "data": {
      "text/html": [
       "<h3 style='background-color:lightgray; padding:5px;'>property: description</h3><br>IP&nbsp;Address&nbsp;Summary<hr><h3 style='background-color:lightgray; padding:5px;'>property: timespan</h3>Time span for the queried results data.&nbsp;Type: [TimeSpan]<br>TimeStamp(start=2021-04-29&nbsp;02:48:40.656183,&nbsp;end=2021-04-30&nbsp;02:48:40.656183,&nbsp;period=1&nbsp;day,&nbsp;0:00:00)<hr><h3 style='background-color:lightgray; padding:5px;'>property: notebooklet</h3>The notebooklet instance that created this result.&nbsp;Type: [Notebooklet]<br><msticnb.nb.azsent.network.ip_summary.IpAddressSummary&nbsp;object&nbsp;at&nbsp;0x000001FBC29649C8><hr><h3 style='background-color:lightgray; padding:5px;'>property: ip_str</h3>The input IP address as a string.&nbsp;Type: [str]<br>165.225.39.73<hr><h3 style='background-color:lightgray; padding:5px;'>property: ip_address</h3>Ip Address Python object&nbsp;Type: [Optional[Union[IPv4Address, IPv6Address]]]<br>165.225.39.73<hr><h3 style='background-color:lightgray; padding:5px;'>property: ip_entity</h3>IpAddress entity&nbsp;Type: [IpAddress]<br><h3>ipaddress</h3>{&nbsp;'AdditionalData':&nbsp;{},<br>&nbsp;&nbsp;'Address':&nbsp;'165.225.39.73',<br>&nbsp;&nbsp;'Location':&nbsp;{&nbsp;'AdditionalData':&nbsp;{},<br>&nbsp;&nbsp;&nbsp;&nbsp;&nbsp;&nbsp;&nbsp;&nbsp;&nbsp;&nbsp;&nbsp;&nbsp;&nbsp;&nbsp;&nbsp;&nbsp;'City':&nbsp;'New&nbsp;York',<br>&nbsp;&nbsp;&nbsp;&nbsp;&nbsp;&nbsp;&nbsp;&nbsp;&nbsp;&nbsp;&nbsp;&nbsp;&nbsp;&nbsp;&nbsp;&nbsp;'CountryCode':&nbsp;'US',<br>&nbsp;&nbsp;&nbsp;&nbsp;&nbsp;&nbsp;&nbsp;&nbsp;&nbsp;&nbsp;&nbsp;&nbsp;&nbsp;&nbsp;&nbsp;&nbsp;'CountryName':&nbsp;'United&nbsp;States',<br>&nbsp;&nbsp;&nbsp;&nbsp;&nbsp;&nbsp;&nbsp;&nbsp;&nbsp;&nbsp;&nbsp;&nbsp;&nbsp;&nbsp;&nbsp;&nbsp;'Latitude':&nbsp;40.7809,<br>&nbsp;&nbsp;&nbsp;&nbsp;&nbsp;&nbsp;&nbsp;&nbsp;&nbsp;&nbsp;&nbsp;&nbsp;&nbsp;&nbsp;&nbsp;&nbsp;'Longitude':&nbsp;-73.9502,<br>&nbsp;&nbsp;&nbsp;&nbsp;&nbsp;&nbsp;&nbsp;&nbsp;&nbsp;&nbsp;&nbsp;&nbsp;&nbsp;&nbsp;&nbsp;&nbsp;'State':&nbsp;'New&nbsp;York',<br>&nbsp;&nbsp;&nbsp;&nbsp;&nbsp;&nbsp;&nbsp;&nbsp;&nbsp;&nbsp;&nbsp;&nbsp;&nbsp;&nbsp;&nbsp;&nbsp;'Type':&nbsp;'geolocation',<br>&nbsp;&nbsp;&nbsp;&nbsp;&nbsp;&nbsp;&nbsp;&nbsp;&nbsp;&nbsp;&nbsp;&nbsp;&nbsp;&nbsp;&nbsp;&nbsp;'edges':&nbsp;set()},<br>&nbsp;&nbsp;'ThreatIntelligence':&nbsp;[],<br>&nbsp;&nbsp;'Type':&nbsp;'ipaddress',<br>&nbsp;&nbsp;'edges':&nbsp;set()}<hr><h3 style='background-color:lightgray; padding:5px;'>property: ip_origin</h3>\"External\" or \"Internal\"&nbsp;Type: [str]<br>External<hr><h3 style='background-color:lightgray; padding:5px;'>property: ip_type</h3>IP address type - \"Public\", \"Private\", etc.&nbsp;Type: [str]<br>Public<hr><h3 style='background-color:lightgray; padding:5px;'>property: host_entity</h3>Host entity associated with IP Address&nbsp;Type: [Host]<br><h3>host</h3>{&nbsp;'AdditionalData':&nbsp;{},<br>&nbsp;&nbsp;'IpAddresses':&nbsp;[],<br>&nbsp;&nbsp;'IsDomainJoined':&nbsp;False,<br>&nbsp;&nbsp;'OSFamily':&nbsp;<OSFamily.Windows:&nbsp;1>,<br>&nbsp;&nbsp;'Type':&nbsp;'host',<br>&nbsp;&nbsp;'edges':&nbsp;set()}<hr><h3 style='background-color:lightgray; padding:5px;'>property: geoip</h3>Geo location information as a dictionary.&nbsp;Type: [Optional[Dict[str, Any]]]<br>{'city':&nbsp;{'geoname_id':&nbsp;5128581,&nbsp;'names':&nbsp;{'de':&nbsp;'New&nbsp;York&nbsp;City',&nbsp;'en':&nbsp;'New&nbsp;York',&nbsp;'es':&nbsp;'Nueva&nbsp;York',&nbsp;'fr':&nbsp;'New&nbsp;York',&nbsp;'ja':&nbsp;'ニューヨーク',&nbsp;'pt-BR':&nbsp;'Nova&nbsp;Iorque',&nbsp;'ru':&nbsp;'Нью-Йорк',&nbsp;'zh-CN':&nbsp;'纽约'}},&nbsp;'continent':&nbsp;{'code':&nbsp;'NA',&nbsp;'geoname_id':&nbsp;6255149,&nbsp;'names':&nbsp;{'de':&nbsp;'Nordamerika',&nbsp;'en':&nbsp;'North&nbsp;America',&nbsp;'es':&nbsp;'Norteamérica',&nbsp;'fr':&nbsp;'Amérique&nbsp;du&nbsp;Nord',&nbsp;'ja':&nbsp;'北アメリカ',&nbsp;'pt-BR':&nbsp;'América&nbsp;do&nbsp;Norte',&nbsp;'ru':&nbsp;'Северная&nbsp;Америка',&nbsp;'zh-CN':&nbsp;'北美洲'}},&nbsp;'country':&nbsp;{'geoname_id':&nbsp;6252001,&nbsp;'iso_code':&nbsp;'US',&nbsp;'names':&nbsp;{'de':&nbsp;'USA',&nbsp;'en':&nbsp;'United&nbsp;States',&nbsp;'es':&nbsp;'Estados&nbsp;Unidos',&nbsp;'fr':&nbsp;'États-Unis',&nbsp;'ja':&nbsp;'アメリカ合衆国',&nbsp;'pt-BR':&nbsp;'Estados&nbsp;Unidos',&nbsp;'ru':&nbsp;'США',&nbsp;'zh-CN':&nbsp;'美国'}},&nbsp;'location':&nbsp;{'accuracy_radius':&nbsp;1000,&nbsp;'latitude':&nbsp;40.7809,&nbsp;'longitude':&nbsp;-73.9502,&nbsp;'metro_code':&nbsp;501,&nbsp;'time_zone':&nbsp;'America/New_York'},&nbsp;'postal':&nbsp;{'code':&nbsp;'10128'},&nbsp;'registered_country':&nbsp;{'geoname_id':&nbsp;6252001,&nbsp;'iso_code':&nbsp;'US',&nbsp;'names':&nbsp;{'de':&nbsp;'USA',&nbsp;'en':&nbsp;'United&nbsp;States',&nbsp;'es':&nbsp;'Estados&nbsp;Unidos',&nbsp;'fr':&nbsp;'États-Unis',&nbsp;'ja':&nbsp;'アメリカ合衆国',&nbsp;'pt-BR':&nbsp;'Estados&nbsp;Unidos',&nbsp;'ru':&nbsp;'США',&nbsp;'zh-CN':&nbsp;'美国'}},&nbsp;'subdivisions':&nbsp;[{'geoname_id':&nbsp;5128638,&nbsp;'iso_code':&nbsp;'NY',&nbsp;'names':&nbsp;{'de':&nbsp;'New&nbsp;York',&nbsp;'en':&nbsp;'New&nbsp;York',&nbsp;'es':&nbsp;'Nueva&nbsp;York',&nbsp;'fr':&nbsp;'New&nbsp;York',&nbsp;'ja':&nbsp;'ニューヨーク州',&nbsp;'pt-BR':&nbsp;'Nova&nbsp;Iorque',&nbsp;'ru':&nbsp;'Нью-Йорк',&nbsp;'zh-CN':&nbsp;'纽约州'}}],&nbsp;'traits':&nbsp;{'ip_address':&nbsp;'165.225.39.73',&nbsp;'prefix_len':&nbsp;23}}<hr><h3 style='background-color:lightgray; padding:5px;'>property: location</h3>Location entity context object.&nbsp;Type: [Optional[GeoLocation]]<br><h3>geolocation</h3>{&nbsp;'AdditionalData':&nbsp;{},<br>&nbsp;&nbsp;'City':&nbsp;'New&nbsp;York',<br>&nbsp;&nbsp;'CountryCode':&nbsp;'US',<br>&nbsp;&nbsp;'CountryName':&nbsp;'United&nbsp;States',<br>&nbsp;&nbsp;'Latitude':&nbsp;40.7809,<br>&nbsp;&nbsp;'Longitude':&nbsp;-73.9502,<br>&nbsp;&nbsp;'State':&nbsp;'New&nbsp;York',<br>&nbsp;&nbsp;'Type':&nbsp;'geolocation',<br>&nbsp;&nbsp;'edges':&nbsp;set()}<hr><h3 style='background-color:lightgray; padding:5px;'>property: whois</h3>WhoIs information for IP Address&nbsp;Type: [pd.DataFrame]<br><div>\n",
       "<style scoped>\n",
       "    .dataframe tbody tr th:only-of-type {\n",
       "        vertical-align: middle;\n",
       "    }\n",
       "\n",
       "    .dataframe tbody tr th {\n",
       "        vertical-align: top;\n",
       "    }\n",
       "\n",
       "    .dataframe thead th {\n",
       "        text-align: right;\n",
       "    }\n",
       "</style>\n",
       "<table border=\"1\" class=\"dataframe\">\n",
       "  <thead>\n",
       "    <tr style=\"text-align: right;\">\n",
       "      <th></th>\n",
       "      <th>nir</th>\n",
       "      <th>asn_registry</th>\n",
       "      <th>asn</th>\n",
       "      <th>asn_cidr</th>\n",
       "      <th>asn_country_code</th>\n",
       "      <th>asn_date</th>\n",
       "      <th>asn_description</th>\n",
       "      <th>query</th>\n",
       "      <th>nets</th>\n",
       "      <th>raw</th>\n",
       "      <th>referral</th>\n",
       "      <th>raw_referral</th>\n",
       "    </tr>\n",
       "  </thead>\n",
       "  <tbody>\n",
       "    <tr>\n",
       "      <th>0</th>\n",
       "      <td>None</td>\n",
       "      <td>arin</td>\n",
       "      <td>22616</td>\n",
       "      <td>165.225.38.0/23</td>\n",
       "      <td>US</td>\n",
       "      <td>2014-11-14</td>\n",
       "      <td>ZSCALER-SJC1, US</td>\n",
       "      <td>165.225.39.73</td>\n",
       "      <td>{'cidr': '165.225.0.0/17', 'name': 'ZSCAL', 'handle': 'NET-165-225-0-0-1', 'range': '165.225.0.0...</td>\n",
       "      <td>None</td>\n",
       "      <td>None</td>\n",
       "      <td>None</td>\n",
       "    </tr>\n",
       "    <tr>\n",
       "      <th>1</th>\n",
       "      <td>None</td>\n",
       "      <td>arin</td>\n",
       "      <td>22616</td>\n",
       "      <td>165.225.38.0/23</td>\n",
       "      <td>US</td>\n",
       "      <td>2014-11-14</td>\n",
       "      <td>ZSCALER-SJC1, US</td>\n",
       "      <td>165.225.39.73</td>\n",
       "      <td>{'cidr': '165.225.39.0/24', 'name': 'ZSCALER-NYC3', 'handle': 'NET-165-225-39-0-1', 'range': Non...</td>\n",
       "      <td>None</td>\n",
       "      <td>None</td>\n",
       "      <td>None</td>\n",
       "    </tr>\n",
       "  </tbody>\n",
       "</table>\n",
       "</div><hr><h3 style='background-color:lightgray; padding:5px;'>property: whois_nets</h3>List of networks definitions from WhoIs data&nbsp;Type: [pd.DataFrame]<br><div>\n",
       "<style scoped>\n",
       "    .dataframe tbody tr th:only-of-type {\n",
       "        vertical-align: middle;\n",
       "    }\n",
       "\n",
       "    .dataframe tbody tr th {\n",
       "        vertical-align: top;\n",
       "    }\n",
       "\n",
       "    .dataframe thead th {\n",
       "        text-align: right;\n",
       "    }\n",
       "</style>\n",
       "<table border=\"1\" class=\"dataframe\">\n",
       "  <thead>\n",
       "    <tr style=\"text-align: right;\">\n",
       "      <th></th>\n",
       "      <th>cidr</th>\n",
       "      <th>name</th>\n",
       "      <th>handle</th>\n",
       "      <th>range</th>\n",
       "      <th>description</th>\n",
       "      <th>country</th>\n",
       "      <th>state</th>\n",
       "      <th>city</th>\n",
       "      <th>address</th>\n",
       "      <th>postal_code</th>\n",
       "      <th>emails</th>\n",
       "      <th>created</th>\n",
       "      <th>updated</th>\n",
       "    </tr>\n",
       "  </thead>\n",
       "  <tbody>\n",
       "    <tr>\n",
       "      <th>0</th>\n",
       "      <td>165.225.0.0/17</td>\n",
       "      <td>ZSCAL</td>\n",
       "      <td>NET-165-225-0-0-1</td>\n",
       "      <td>165.225.0.0 - 165.225.127.255</td>\n",
       "      <td>ZSCALER, INC.</td>\n",
       "      <td>US</td>\n",
       "      <td>CA</td>\n",
       "      <td>San Jose</td>\n",
       "      <td>110 Rose Orchard Way</td>\n",
       "      <td>95134</td>\n",
       "      <td>[poc-abuse@zscaler.com, poc-noc@zscaler.com, poc-tech@zscaler.com]</td>\n",
       "      <td>2014-11-14</td>\n",
       "      <td>2015-01-21</td>\n",
       "    </tr>\n",
       "    <tr>\n",
       "      <th>1</th>\n",
       "      <td>165.225.39.0/24</td>\n",
       "      <td>ZSCALER-NYC3</td>\n",
       "      <td>NET-165-225-39-0-1</td>\n",
       "      <td>None</td>\n",
       "      <td>Zscaler, Inc.</td>\n",
       "      <td>US</td>\n",
       "      <td>NY</td>\n",
       "      <td>New York</td>\n",
       "      <td>111 8th Avenue</td>\n",
       "      <td>10011</td>\n",
       "      <td>[poc-abuse@zscaler.com, poc-noc@zscaler.com, poc-tech@zscaler.com]</td>\n",
       "      <td>2016-11-10</td>\n",
       "      <td>2016-11-10</td>\n",
       "    </tr>\n",
       "  </tbody>\n",
       "</table>\n",
       "</div><hr><h3 style='background-color:lightgray; padding:5px;'>property: heartbeat</h3>Heartbeat record for IP Address or host&nbsp;Type: [pd.DataFrame]<br><div>\n",
       "<style scoped>\n",
       "    .dataframe tbody tr th:only-of-type {\n",
       "        vertical-align: middle;\n",
       "    }\n",
       "\n",
       "    .dataframe tbody tr th {\n",
       "        vertical-align: top;\n",
       "    }\n",
       "\n",
       "    .dataframe thead th {\n",
       "        text-align: right;\n",
       "    }\n",
       "</style>\n",
       "<table border=\"1\" class=\"dataframe\">\n",
       "  <thead>\n",
       "    <tr style=\"text-align: right;\">\n",
       "      <th></th>\n",
       "      <th>TenantId</th>\n",
       "      <th>SourceSystem</th>\n",
       "      <th>TimeGenerated</th>\n",
       "      <th>MG</th>\n",
       "      <th>ManagementGroupName</th>\n",
       "      <th>SourceComputerId</th>\n",
       "      <th>ComputerIP</th>\n",
       "      <th>Computer</th>\n",
       "      <th>Category</th>\n",
       "      <th>OSType</th>\n",
       "      <th>OSName</th>\n",
       "      <th>OSMajorVersion</th>\n",
       "      <th>OSMinorVersion</th>\n",
       "      <th>Version</th>\n",
       "      <th>SCAgentChannel</th>\n",
       "      <th>IsGatewayInstalled</th>\n",
       "      <th>RemoteIPLongitude</th>\n",
       "      <th>RemoteIPLatitude</th>\n",
       "      <th>RemoteIPCountry</th>\n",
       "      <th>SubscriptionId</th>\n",
       "      <th>ResourceGroup</th>\n",
       "      <th>ResourceProvider</th>\n",
       "      <th>Resource</th>\n",
       "      <th>ResourceId</th>\n",
       "      <th>ResourceType</th>\n",
       "      <th>ComputerEnvironment</th>\n",
       "      <th>Solutions</th>\n",
       "      <th>VMUUID</th>\n",
       "      <th>Type</th>\n",
       "      <th>_ResourceId</th>\n",
       "    </tr>\n",
       "  </thead>\n",
       "  <tbody>\n",
       "  </tbody>\n",
       "</table>\n",
       "</div><hr><h3 style='background-color:lightgray; padding:5px;'>property: az_network_if</h3>Azure Network analytics interface record, if available&nbsp;Type: [pd.DataFrame]<br><div>\n",
       "<style scoped>\n",
       "    .dataframe tbody tr th:only-of-type {\n",
       "        vertical-align: middle;\n",
       "    }\n",
       "\n",
       "    .dataframe tbody tr th {\n",
       "        vertical-align: top;\n",
       "    }\n",
       "\n",
       "    .dataframe thead th {\n",
       "        text-align: right;\n",
       "    }\n",
       "</style>\n",
       "<table border=\"1\" class=\"dataframe\">\n",
       "  <thead>\n",
       "    <tr style=\"text-align: right;\">\n",
       "      <th></th>\n",
       "      <th>TenantId</th>\n",
       "      <th>SourceSystem</th>\n",
       "      <th>MG</th>\n",
       "      <th>ManagementGroupName</th>\n",
       "      <th>TimeGenerated</th>\n",
       "      <th>Computer</th>\n",
       "      <th>VmssName_s</th>\n",
       "      <th>Zones_s</th>\n",
       "      <th>records_AddressPrefixes_s</th>\n",
       "      <th>records_RouteTable_s</th>\n",
       "      <th>records_AddressPrefix_s</th>\n",
       "      <th>records_NextHopIP_s</th>\n",
       "      <th>records_NextHopType_s</th>\n",
       "      <th>records_FlowLogStorageAccount_s</th>\n",
       "      <th>records_IsFlowEnabled_b</th>\n",
       "      <th>records_Access_s</th>\n",
       "      <th>records_Description_s</th>\n",
       "      <th>records_DestinationAddressPrefix_s</th>\n",
       "      <th>records_DestinationPortRange_s</th>\n",
       "      <th>records_Direction_s</th>\n",
       "      <th>records_Priority_d</th>\n",
       "      <th>records_RuleType_s</th>\n",
       "      <th>records_SourceAddressPrefix_s</th>\n",
       "      <th>records_SourcePortRange_s</th>\n",
       "      <th>records_ApplicationGatewayBackendPools_s</th>\n",
       "      <th>...</th>\n",
       "      <th>PrimarybytesIn_d</th>\n",
       "      <th>PrimarybytesOut_d</th>\n",
       "      <th>SecondaryAzurePort_s</th>\n",
       "      <th>SecondaryPeerAddressPrefix_s</th>\n",
       "      <th>SecondarybytesIn_d</th>\n",
       "      <th>SecondarybytesOut_d</th>\n",
       "      <th>State_s</th>\n",
       "      <th>VlanId_d</th>\n",
       "      <th>SchemaVersion_s</th>\n",
       "      <th>TopologyVersion_s</th>\n",
       "      <th>DiscoveryRegion_s</th>\n",
       "      <th>Name_s</th>\n",
       "      <th>Region_s</th>\n",
       "      <th>ResourceType</th>\n",
       "      <th>SubType_s</th>\n",
       "      <th>Subscription_g</th>\n",
       "      <th>TimeProcessed_t</th>\n",
       "      <th>Network_s</th>\n",
       "      <th>PrimaryNextHop_s</th>\n",
       "      <th>SecondaryNextHop_s</th>\n",
       "      <th>ComponentType_s</th>\n",
       "      <th>Status_s</th>\n",
       "      <th>SubscriptionName_s</th>\n",
       "      <th>Type</th>\n",
       "      <th>_ResourceId</th>\n",
       "    </tr>\n",
       "  </thead>\n",
       "  <tbody>\n",
       "  </tbody>\n",
       "</table>\n",
       "<p>0 rows × 395 columns</p>\n",
       "</div><hr><h3 style='background-color:lightgray; padding:5px;'>property: vmcomputer</h3>VMComputer latest record&nbsp;Type: [pd.DataFrame]<br><div>\n",
       "<style scoped>\n",
       "    .dataframe tbody tr th:only-of-type {\n",
       "        vertical-align: middle;\n",
       "    }\n",
       "\n",
       "    .dataframe tbody tr th {\n",
       "        vertical-align: top;\n",
       "    }\n",
       "\n",
       "    .dataframe thead th {\n",
       "        text-align: right;\n",
       "    }\n",
       "</style>\n",
       "<table border=\"1\" class=\"dataframe\">\n",
       "  <thead>\n",
       "    <tr style=\"text-align: right;\">\n",
       "      <th></th>\n",
       "      <th>TimeGenerated</th>\n",
       "      <th>Computer</th>\n",
       "      <th>AgentId</th>\n",
       "      <th>Machine</th>\n",
       "      <th>DisplayName</th>\n",
       "      <th>FullDisplayName</th>\n",
       "      <th>HostName</th>\n",
       "      <th>BootTime</th>\n",
       "      <th>TimeZone</th>\n",
       "      <th>VirtualizationState</th>\n",
       "      <th>Ipv4Addresses</th>\n",
       "      <th>Ipv4SubnetMasks</th>\n",
       "      <th>Ipv4DefaultGateways</th>\n",
       "      <th>Ipv6Addresses</th>\n",
       "      <th>MacAddresses</th>\n",
       "      <th>DnsNames</th>\n",
       "      <th>DependencyAgentVersion</th>\n",
       "      <th>OperatingSystemFamily</th>\n",
       "      <th>OperatingSystemFullName</th>\n",
       "      <th>PhysicalMemoryMB</th>\n",
       "      <th>Cpus</th>\n",
       "      <th>CpuSpeed</th>\n",
       "      <th>VirtualMachineType</th>\n",
       "      <th>VirtualMachineNativeId</th>\n",
       "      <th>VirtualMachineNativeName</th>\n",
       "      <th>...</th>\n",
       "      <th>AzureResourceName</th>\n",
       "      <th>AzureLocation</th>\n",
       "      <th>AzureUpdateDomain</th>\n",
       "      <th>AzureFaultDomain</th>\n",
       "      <th>AzureVmId</th>\n",
       "      <th>AzureSize</th>\n",
       "      <th>AzureImagePublisher</th>\n",
       "      <th>AzureImageOffering</th>\n",
       "      <th>AzureImageSku</th>\n",
       "      <th>AzureImageVersion</th>\n",
       "      <th>AzureCloudServiceName</th>\n",
       "      <th>AzureCloudServiceDeployment</th>\n",
       "      <th>AzureCloudServiceRoleName</th>\n",
       "      <th>AzureCloudServiceRoleType</th>\n",
       "      <th>AzureCloudServiceInstanceId</th>\n",
       "      <th>AzureVmScaleSetName</th>\n",
       "      <th>AzureVmScaleSetDeployment</th>\n",
       "      <th>AzureVmScaleSetResourceId</th>\n",
       "      <th>AzureVmScaleSetInstanceId</th>\n",
       "      <th>AzureServiceFabricClusterId</th>\n",
       "      <th>AzureServiceFabricClusterName</th>\n",
       "      <th>TenantId</th>\n",
       "      <th>SourceSystem</th>\n",
       "      <th>Type</th>\n",
       "      <th>_ResourceId</th>\n",
       "    </tr>\n",
       "  </thead>\n",
       "  <tbody>\n",
       "  </tbody>\n",
       "</table>\n",
       "<p>0 rows × 56 columns</p>\n",
       "</div><hr><h3 style='background-color:lightgray; padding:5px;'>property: related_alerts</h3>Alerts related to IP Address&nbsp;Type: [pd.DataFrame]<br><div>\n",
       "<style scoped>\n",
       "    .dataframe tbody tr th:only-of-type {\n",
       "        vertical-align: middle;\n",
       "    }\n",
       "\n",
       "    .dataframe tbody tr th {\n",
       "        vertical-align: top;\n",
       "    }\n",
       "\n",
       "    .dataframe thead th {\n",
       "        text-align: right;\n",
       "    }\n",
       "</style>\n",
       "<table border=\"1\" class=\"dataframe\">\n",
       "  <thead>\n",
       "    <tr style=\"text-align: right;\">\n",
       "      <th></th>\n",
       "      <th>TenantId</th>\n",
       "      <th>TimeGenerated</th>\n",
       "      <th>AlertDisplayName</th>\n",
       "      <th>AlertName</th>\n",
       "      <th>Severity</th>\n",
       "      <th>Description</th>\n",
       "      <th>ProviderName</th>\n",
       "      <th>VendorName</th>\n",
       "      <th>VendorOriginalId</th>\n",
       "      <th>SystemAlertId</th>\n",
       "      <th>ResourceId</th>\n",
       "      <th>SourceComputerId</th>\n",
       "      <th>AlertType</th>\n",
       "      <th>ConfidenceLevel</th>\n",
       "      <th>ConfidenceScore</th>\n",
       "      <th>IsIncident</th>\n",
       "      <th>StartTimeUtc</th>\n",
       "      <th>EndTimeUtc</th>\n",
       "      <th>ProcessingEndTime</th>\n",
       "      <th>RemediationSteps</th>\n",
       "      <th>ExtendedProperties</th>\n",
       "      <th>Entities</th>\n",
       "      <th>SourceSystem</th>\n",
       "      <th>WorkspaceSubscriptionId</th>\n",
       "      <th>WorkspaceResourceGroup</th>\n",
       "      <th>ExtendedLinks</th>\n",
       "      <th>ProductName</th>\n",
       "      <th>ProductComponentName</th>\n",
       "      <th>AlertLink</th>\n",
       "      <th>Status</th>\n",
       "      <th>CompromisedEntity</th>\n",
       "      <th>Tactics</th>\n",
       "      <th>Type</th>\n",
       "      <th>SystemAlertId1</th>\n",
       "      <th>ExtendedProperties1</th>\n",
       "      <th>Entities1</th>\n",
       "      <th>MatchingIps</th>\n",
       "    </tr>\n",
       "  </thead>\n",
       "  <tbody>\n",
       "  </tbody>\n",
       "</table>\n",
       "</div><hr><h3 style='background-color:lightgray; padding:5px;'>property: ti_results</h3>Threat intel lookup results&nbsp;Type: [pd.DataFrame]<br><div>\n",
       "<style scoped>\n",
       "    .dataframe tbody tr th:only-of-type {\n",
       "        vertical-align: middle;\n",
       "    }\n",
       "\n",
       "    .dataframe tbody tr th {\n",
       "        vertical-align: top;\n",
       "    }\n",
       "\n",
       "    .dataframe thead th {\n",
       "        text-align: right;\n",
       "    }\n",
       "</style>\n",
       "<table border=\"1\" class=\"dataframe\">\n",
       "  <thead>\n",
       "    <tr style=\"text-align: right;\">\n",
       "      <th></th>\n",
       "      <th>Ioc</th>\n",
       "      <th>IocType</th>\n",
       "      <th>QuerySubtype</th>\n",
       "      <th>Provider</th>\n",
       "      <th>Result</th>\n",
       "      <th>Severity</th>\n",
       "      <th>Details</th>\n",
       "      <th>RawResult</th>\n",
       "      <th>Reference</th>\n",
       "      <th>Status</th>\n",
       "    </tr>\n",
       "  </thead>\n",
       "  <tbody>\n",
       "    <tr>\n",
       "      <th>OTX</th>\n",
       "      <td>165.225.39.73</td>\n",
       "      <td>ipv4</td>\n",
       "      <td>None</td>\n",
       "      <td>OTX</td>\n",
       "      <td>True</td>\n",
       "      <td>information</td>\n",
       "      <td>{'pulse_count': 0, 'sections_available': ['general', 'geo', 'reputation', 'url_list', 'passive_d...</td>\n",
       "      <td>{'whois': 'http://whois.domaintools.com/165.225.39.73', 'reputation': 0, 'indicator': '165.225.3...</td>\n",
       "      <td>https://otx.alienvault.com/api/v1/indicators/IPv4/165.225.39.73/general</td>\n",
       "      <td>0</td>\n",
       "    </tr>\n",
       "    <tr>\n",
       "      <th>OPR</th>\n",
       "      <td>165.225.39.73</td>\n",
       "      <td>ipv4</td>\n",
       "      <td>None</td>\n",
       "      <td>OPR</td>\n",
       "      <td>False</td>\n",
       "      <td>information</td>\n",
       "      <td>IoC type ipv4 not supported.</td>\n",
       "      <td>None</td>\n",
       "      <td>None</td>\n",
       "      <td>1</td>\n",
       "    </tr>\n",
       "    <tr>\n",
       "      <th>Tor</th>\n",
       "      <td>165.225.39.73</td>\n",
       "      <td>ipv4</td>\n",
       "      <td>None</td>\n",
       "      <td>Tor</td>\n",
       "      <td>True</td>\n",
       "      <td>information</td>\n",
       "      <td>Not found.</td>\n",
       "      <td>None</td>\n",
       "      <td>https://check.torproject.org/exit-addresses</td>\n",
       "      <td>0</td>\n",
       "    </tr>\n",
       "    <tr>\n",
       "      <th>VirusTotal</th>\n",
       "      <td>165.225.39.73</td>\n",
       "      <td>ipv4</td>\n",
       "      <td>None</td>\n",
       "      <td>VirusTotal</td>\n",
       "      <td>True</td>\n",
       "      <td>information</td>\n",
       "      <td>{'verbose_msg': 'IP address in dataset', 'response_code': 1, 'detected_urls': [], 'positives': 0}</td>\n",
       "      <td>{'country': 'US', 'response_code': 1, 'detected_urls': [], 'resolutions': [], 'verbose_msg': 'IP...</td>\n",
       "      <td>https://www.virustotal.com/vtapi/v2/ip-address/report</td>\n",
       "      <td>0</td>\n",
       "    </tr>\n",
       "    <tr>\n",
       "      <th>XForce</th>\n",
       "      <td>165.225.39.73</td>\n",
       "      <td>ipv4</td>\n",
       "      <td>None</td>\n",
       "      <td>XForce</td>\n",
       "      <td>True</td>\n",
       "      <td>warning</td>\n",
       "      <td>{'score': 1, 'cats': {}, 'categoryDescriptions': {}, 'reason': 'Regional Internet Registry', 're...</td>\n",
       "      <td>{'ip': '165.225.39.73', 'history': [{'created': '2012-03-22T07:26:00.000Z', 'reason': 'Regional ...</td>\n",
       "      <td>https://api.xforce.ibmcloud.com/ipr/165.225.39.73</td>\n",
       "      <td>0</td>\n",
       "    </tr>\n",
       "  </tbody>\n",
       "</table>\n",
       "</div><hr><h3 style='background-color:lightgray; padding:5px;'>property: passive_dns</h3>Passive DNS lookup results&nbsp;Type: [pd.DataFrame]<br><div>\n",
       "<style scoped>\n",
       "    .dataframe tbody tr th:only-of-type {\n",
       "        vertical-align: middle;\n",
       "    }\n",
       "\n",
       "    .dataframe tbody tr th {\n",
       "        vertical-align: top;\n",
       "    }\n",
       "\n",
       "    .dataframe thead th {\n",
       "        text-align: right;\n",
       "    }\n",
       "</style>\n",
       "<table border=\"1\" class=\"dataframe\">\n",
       "  <thead>\n",
       "    <tr style=\"text-align: right;\">\n",
       "      <th></th>\n",
       "      <th>Ioc</th>\n",
       "      <th>IocType</th>\n",
       "      <th>QuerySubtype</th>\n",
       "      <th>Provider</th>\n",
       "      <th>Result</th>\n",
       "      <th>Severity</th>\n",
       "      <th>Details</th>\n",
       "      <th>RawResult</th>\n",
       "      <th>Reference</th>\n",
       "      <th>Status</th>\n",
       "    </tr>\n",
       "  </thead>\n",
       "  <tbody>\n",
       "    <tr>\n",
       "      <th>XForce</th>\n",
       "      <td>165.225.39.73</td>\n",
       "      <td>ipv4</td>\n",
       "      <td>passivedns</td>\n",
       "      <td>XForce</td>\n",
       "      <td>True</td>\n",
       "      <td>information</td>\n",
       "      <td>{}</td>\n",
       "      <td>{'Passive': {'query': '0x00000000000000000000ffffa5e12749', 'records': []}, 'total_rows': 0}</td>\n",
       "      <td>https://api.xforce.ibmcloud.com/resolve/165.225.39.73</td>\n",
       "      <td>0</td>\n",
       "    </tr>\n",
       "  </tbody>\n",
       "</table>\n",
       "</div><hr>"
      ],
      "text/plain": [
       "<msticnb.nb.azsent.network.ip_summary.IpSummaryResult at 0x1fbc2b3ee88>"
      ]
     },
     "execution_count": 8,
     "metadata": {},
     "output_type": "execute_result"
    }
   ],
   "source": [
    "ip_summary.run(value=src, timespan=ip_summary.timespan)"
   ]
  }
 ],
 "metadata": {
  "kernelspec": {
   "display_name": "Python 3.6.7 64-bit ('condadev': conda)",
   "language": "python",
   "name": "python36764bitcondadevconda6cccf545f08246a1a5c093078bc87e5f"
  },
  "language_info": {
   "codemirror_mode": {
    "name": "ipython",
    "version": 3
   },
   "file_extension": ".py",
   "mimetype": "text/x-python",
   "name": "python",
   "nbconvert_exporter": "python",
   "pygments_lexer": "ipython3",
   "version": "3.7.10"
  },
  "widgets": {
   "application/vnd.jupyter.widget-state+json": {
    "state": {
     "01983c9164374397add518f112c2dcc6": {
      "model_module": "@jupyter-widgets/controls",
      "model_module_version": "1.5.0",
      "model_name": "TextModel",
      "state": {
       "description": "Time (24hr)",
       "layout": "IPY_MODEL_bd8c318c679a459b9c2f2c51f8a0c853",
       "style": "IPY_MODEL_e85f84dc4792406e9ae9fa2d058516f8",
       "value": "02:48:24.304669"
      }
     },
     "01c310d3fa6f41fbae272d91c5d36cc9": {
      "model_module": "@jupyter-widgets/base",
      "model_module_version": "1.2.0",
      "model_name": "LayoutModel",
      "state": {}
     },
     "0bd426f203d442688b7590976b04e060": {
      "model_module": "@jupyter-widgets/controls",
      "model_module_version": "1.5.0",
      "model_name": "DescriptionStyleModel",
      "state": {
       "description_width": ""
      }
     },
     "0c2615d3d65243a5a8feea7a83871506": {
      "model_module": "@jupyter-widgets/controls",
      "model_module_version": "1.5.0",
      "model_name": "DescriptionStyleModel",
      "state": {
       "description_width": "initial"
      }
     },
     "0fd07ca934614a53b3635822a6fd749f": {
      "model_module": "@jupyter-widgets/controls",
      "model_module_version": "1.5.0",
      "model_name": "DescriptionStyleModel",
      "state": {
       "description_width": ""
      }
     },
     "11f48fbef0f147fc9b0c00fb12256a63": {
      "model_module": "@jupyter-widgets/controls",
      "model_module_version": "1.5.0",
      "model_name": "TextModel",
      "state": {
       "description": "Time (24hr)",
       "layout": "IPY_MODEL_c8d820ec94e640029daf4fedc44ad221",
       "style": "IPY_MODEL_134719e222c64782929707c48f6e1567",
       "value": "02:48:21.157064"
      }
     },
     "12a240edebfd4e70a4478789b7dbe29c": {
      "model_module": "@jupyter-widgets/controls",
      "model_module_version": "1.5.0",
      "model_name": "DescriptionStyleModel",
      "state": {
       "description_width": "initial"
      }
     },
     "12fb375c5f604de0ab87299d0ca5336a": {
      "model_module": "@jupyter-widgets/controls",
      "model_module_version": "1.5.0",
      "model_name": "SliderStyleModel",
      "state": {
       "description_width": "initial"
      }
     },
     "134719e222c64782929707c48f6e1567": {
      "model_module": "@jupyter-widgets/controls",
      "model_module_version": "1.5.0",
      "model_name": "DescriptionStyleModel",
      "state": {
       "description_width": ""
      }
     },
     "13910df4dde247aeba7aa8745727be44": {
      "model_module": "@jupyter-widgets/controls",
      "model_module_version": "1.5.0",
      "model_name": "DescriptionStyleModel",
      "state": {
       "description_width": ""
      }
     },
     "14e60e71ed1448f6bf215214e1b122ec": {
      "model_module": "@jupyter-widgets/base",
      "model_module_version": "1.2.0",
      "model_name": "LayoutModel",
      "state": {}
     },
     "1cdd1661fdc04c4fa6ac5073060e1e5a": {
      "model_module": "@jupyter-widgets/controls",
      "model_module_version": "1.5.0",
      "model_name": "IntRangeSliderModel",
      "state": {
       "_model_name": "IntRangeSliderModel",
       "_view_name": "IntRangeSliderView",
       "description": "Time Range",
       "layout": "IPY_MODEL_a4501b36ab424c519b7a7fabfa19b8c7",
       "max": 4,
       "min": -4,
       "style": "IPY_MODEL_ac0e1b863ef44b3facb798fba9c7096f",
       "value": [
        -1,
        1
       ]
      }
     },
     "1ddf0ae11c8d4c8c8e00410b3c37b324": {
      "model_module": "@jupyter-widgets/base",
      "model_module_version": "1.2.0",
      "model_name": "LayoutModel",
      "state": {
       "width": "100px"
      }
     },
     "217ce36acefa4be89454800a4685534a": {
      "model_module": "@jupyter-widgets/base",
      "model_module_version": "1.2.0",
      "model_name": "LayoutModel",
      "state": {
       "width": "100px"
      }
     },
     "2345e4fa7c6442f8b713c3d2eeddc065": {
      "model_module": "@jupyter-widgets/base",
      "model_module_version": "1.2.0",
      "model_name": "LayoutModel",
      "state": {}
     },
     "2e5934c77a5946d19224cad955668864": {
      "model_module": "@jupyter-widgets/base",
      "model_module_version": "1.2.0",
      "model_name": "LayoutModel",
      "state": {}
     },
     "33af72f4df694d7d916316b6e41a4cc1": {
      "model_module": "@jupyter-widgets/controls",
      "model_module_version": "1.5.0",
      "model_name": "DescriptionStyleModel",
      "state": {
       "description_width": ""
      }
     },
     "38f5f5b94f624264b4952cd15b247a42": {
      "model_module": "@jupyter-widgets/controls",
      "model_module_version": "1.5.0",
      "model_name": "TextModel",
      "state": {
       "description": "Query start time (UTC):",
       "layout": "IPY_MODEL_75f7fe444b1f4fd38b33f15c9ac25b7e",
       "style": "IPY_MODEL_12a240edebfd4e70a4478789b7dbe29c",
       "value": "2021-04-29 02:48:21.157064"
      }
     },
     "434fbeec41a94b6fa6e2dc32bef3057f": {
      "model_module": "@jupyter-widgets/controls",
      "model_module_version": "1.5.0",
      "model_name": "DescriptionStyleModel",
      "state": {
       "description_width": "initial"
      }
     },
     "495bc58f0e5f4ca8bbeb85dbf15d6b00": {
      "model_module": "@jupyter-widgets/controls",
      "model_module_version": "1.5.0",
      "model_name": "DropdownModel",
      "state": {
       "_options_labels": [
        "minute",
        "hour",
        "day",
        "week"
       ],
       "index": 2,
       "layout": "IPY_MODEL_1ddf0ae11c8d4c8c8e00410b3c37b324",
       "style": "IPY_MODEL_0bd426f203d442688b7590976b04e060"
      }
     },
     "4e92adc263b141a8bf3c33a3ee093685": {
      "model_module": "@jupyter-widgets/controls",
      "model_module_version": "1.5.0",
      "model_name": "DescriptionStyleModel",
      "state": {
       "description_width": ""
      }
     },
     "533c2bbbe33a49ba9372bdeaa2ac7813": {
      "model_module": "@jupyter-widgets/base",
      "model_module_version": "1.2.0",
      "model_name": "LayoutModel",
      "state": {
       "width": "50%"
      }
     },
     "584da12387d946faae5b501d686eb674": {
      "model_module": "@jupyter-widgets/controls",
      "model_module_version": "1.5.0",
      "model_name": "DescriptionStyleModel",
      "state": {
       "description_width": "initial"
      }
     },
     "613ccab9834343cba916c8e1af6db869": {
      "model_module": "@jupyter-widgets/controls",
      "model_module_version": "1.5.0",
      "model_name": "DatePickerModel",
      "state": {
       "description": "Origin Date",
       "disabled": false,
       "layout": "IPY_MODEL_14e60e71ed1448f6bf215214e1b122ec",
       "style": "IPY_MODEL_4e92adc263b141a8bf3c33a3ee093685",
       "value": {
        "date": 30,
        "month": 3,
        "year": 2021
       }
      }
     },
     "6272e0934bfa4a639e5c1a83c2238e07": {
      "model_module": "@jupyter-widgets/controls",
      "model_module_version": "1.5.0",
      "model_name": "VBoxModel",
      "state": {
       "children": [
        "IPY_MODEL_edf8560b20b941c89e68528740cae19d",
        "IPY_MODEL_8c70a5eb0a7646ccbc29fe5af7d0def3",
        "IPY_MODEL_f4ce11557e174a9da7a4005d1952d2ac"
       ],
       "layout": "IPY_MODEL_01c310d3fa6f41fbae272d91c5d36cc9"
      }
     },
     "673e367216dd4545be4229fd73404eec": {
      "model_module": "@jupyter-widgets/controls",
      "model_module_version": "1.5.0",
      "model_name": "DropdownModel",
      "state": {
       "_options_labels": [
        "minute",
        "hour",
        "day",
        "week"
       ],
       "index": 2,
       "layout": "IPY_MODEL_217ce36acefa4be89454800a4685534a",
       "style": "IPY_MODEL_a97d0575e01c4e3a9b2684f582dfcf2c"
      }
     },
     "75f7fe444b1f4fd38b33f15c9ac25b7e": {
      "model_module": "@jupyter-widgets/base",
      "model_module_version": "1.2.0",
      "model_name": "LayoutModel",
      "state": {
       "width": "50%"
      }
     },
     "7a08f57bd15e48da945b1a0bf936b015": {
      "model_module": "@jupyter-widgets/base",
      "model_module_version": "1.2.0",
      "model_name": "LayoutModel",
      "state": {
       "width": "95%"
      }
     },
     "83a0e881412e425b9526299b59f537d8": {
      "model_module": "@jupyter-widgets/base",
      "model_module_version": "1.2.0",
      "model_name": "LayoutModel",
      "state": {
       "width": "50%"
      }
     },
     "87fe3a5d77114752876927a4ae86aa5e": {
      "model_module": "@jupyter-widgets/base",
      "model_module_version": "1.2.0",
      "model_name": "LayoutModel",
      "state": {}
     },
     "8c70a5eb0a7646ccbc29fe5af7d0def3": {
      "model_module": "@jupyter-widgets/controls",
      "model_module_version": "1.5.0",
      "model_name": "HBoxModel",
      "state": {
       "children": [
        "IPY_MODEL_a5f3e7e119f74b6cb69cd570d7b9935f",
        "IPY_MODEL_11f48fbef0f147fc9b0c00fb12256a63"
       ],
       "layout": "IPY_MODEL_ded36666f8184e0da8346a3337178507"
      }
     },
     "a4501b36ab424c519b7a7fabfa19b8c7": {
      "model_module": "@jupyter-widgets/base",
      "model_module_version": "1.2.0",
      "model_name": "LayoutModel",
      "state": {
       "width": "70%"
      }
     },
     "a5f3e7e119f74b6cb69cd570d7b9935f": {
      "model_module": "@jupyter-widgets/controls",
      "model_module_version": "1.5.0",
      "model_name": "DatePickerModel",
      "state": {
       "description": "Origin Date",
       "disabled": false,
       "layout": "IPY_MODEL_e4aaff526cec43048fb8579be1c6b84f",
       "style": "IPY_MODEL_13910df4dde247aeba7aa8745727be44",
       "value": {
        "date": 30,
        "month": 3,
        "year": 2021
       }
      }
     },
     "a97d0575e01c4e3a9b2684f582dfcf2c": {
      "model_module": "@jupyter-widgets/controls",
      "model_module_version": "1.5.0",
      "model_name": "DescriptionStyleModel",
      "state": {
       "description_width": ""
      }
     },
     "a9da1c2b6dba435baa337d5798a490f4": {
      "model_module": "@jupyter-widgets/base",
      "model_module_version": "1.2.0",
      "model_name": "LayoutModel",
      "state": {}
     },
     "aa7a9e59198d411485f45493beeab43a": {
      "model_module": "@jupyter-widgets/controls",
      "model_module_version": "1.5.0",
      "model_name": "HBoxModel",
      "state": {
       "children": [
        "IPY_MODEL_1cdd1661fdc04c4fa6ac5073060e1e5a",
        "IPY_MODEL_495bc58f0e5f4ca8bbeb85dbf15d6b00"
       ],
       "layout": "IPY_MODEL_d1174930b69f4d2dae18def78ea024d4"
      }
     },
     "aaa05c420bae4221a5cb7331f43162e6": {
      "model_module": "@jupyter-widgets/base",
      "model_module_version": "1.2.0",
      "model_name": "LayoutModel",
      "state": {}
     },
     "ac0e1b863ef44b3facb798fba9c7096f": {
      "model_module": "@jupyter-widgets/controls",
      "model_module_version": "1.5.0",
      "model_name": "SliderStyleModel",
      "state": {
       "description_width": "initial"
      }
     },
     "b000e0bcb85b4aa99479d4dd123e968b": {
      "model_module": "@jupyter-widgets/controls",
      "model_module_version": "1.5.0",
      "model_name": "TextModel",
      "state": {
       "description": "Query end time (UTC) :  ",
       "layout": "IPY_MODEL_533c2bbbe33a49ba9372bdeaa2ac7813",
       "style": "IPY_MODEL_434fbeec41a94b6fa6e2dc32bef3057f",
       "value": "2021-04-30 02:48:21.157064"
      }
     },
     "bd8c318c679a459b9c2f2c51f8a0c853": {
      "model_module": "@jupyter-widgets/base",
      "model_module_version": "1.2.0",
      "model_name": "LayoutModel",
      "state": {}
     },
     "c6b57559b6ef48d089e7478f6210d208": {
      "model_module": "@jupyter-widgets/controls",
      "model_module_version": "1.5.0",
      "model_name": "HBoxModel",
      "state": {
       "children": [
        "IPY_MODEL_613ccab9834343cba916c8e1af6db869",
        "IPY_MODEL_01983c9164374397add518f112c2dcc6"
       ],
       "layout": "IPY_MODEL_fdaf3525ba714daebc8c951bb9cbbe01"
      }
     },
     "c8d820ec94e640029daf4fedc44ad221": {
      "model_module": "@jupyter-widgets/base",
      "model_module_version": "1.2.0",
      "model_name": "LayoutModel",
      "state": {}
     },
     "cb65beeb0eeb43068df4d4ca41abf5c5": {
      "model_module": "@jupyter-widgets/controls",
      "model_module_version": "1.5.0",
      "model_name": "HTMLModel",
      "state": {
       "layout": "IPY_MODEL_2e5934c77a5946d19224cad955668864",
       "style": "IPY_MODEL_33af72f4df694d7d916316b6e41a4cc1",
       "value": "<h4>Set query time boundaries</h4>"
      }
     },
     "cf5e5b60f4d74b759e2b279332dd0df7": {
      "model_module": "@jupyter-widgets/base",
      "model_module_version": "1.2.0",
      "model_name": "LayoutModel",
      "state": {}
     },
     "d1174930b69f4d2dae18def78ea024d4": {
      "model_module": "@jupyter-widgets/base",
      "model_module_version": "1.2.0",
      "model_name": "LayoutModel",
      "state": {}
     },
     "d4b16c5469c24fc5af8f44453251f7c4": {
      "model_module": "@jupyter-widgets/controls",
      "model_module_version": "1.5.0",
      "model_name": "TextModel",
      "state": {
       "description": "Query start time (UTC):",
       "layout": "IPY_MODEL_e53fd7abfff8477589da7047388634f2",
       "style": "IPY_MODEL_584da12387d946faae5b501d686eb674",
       "value": "2021-04-29 02:48:24.304669"
      }
     },
     "ded36666f8184e0da8346a3337178507": {
      "model_module": "@jupyter-widgets/base",
      "model_module_version": "1.2.0",
      "model_name": "LayoutModel",
      "state": {}
     },
     "e11469ba15994dd0a7bc65f7f2f553a4": {
      "model_module": "@jupyter-widgets/controls",
      "model_module_version": "1.5.0",
      "model_name": "VBoxModel",
      "state": {
       "children": [
        "IPY_MODEL_aa7a9e59198d411485f45493beeab43a",
        "IPY_MODEL_d4b16c5469c24fc5af8f44453251f7c4",
        "IPY_MODEL_f8d1c5d99ffc42599a4a283b42a6884a"
       ],
       "layout": "IPY_MODEL_2345e4fa7c6442f8b713c3d2eeddc065"
      }
     },
     "e3f03862ba154353b39efcbbe6c95bf2": {
      "model_module": "@jupyter-widgets/controls",
      "model_module_version": "1.5.0",
      "model_name": "VBoxModel",
      "state": {
       "children": [
        "IPY_MODEL_cb65beeb0eeb43068df4d4ca41abf5c5",
        "IPY_MODEL_c6b57559b6ef48d089e7478f6210d208",
        "IPY_MODEL_e11469ba15994dd0a7bc65f7f2f553a4"
       ],
       "layout": "IPY_MODEL_87fe3a5d77114752876927a4ae86aa5e"
      }
     },
     "e4aaff526cec43048fb8579be1c6b84f": {
      "model_module": "@jupyter-widgets/base",
      "model_module_version": "1.2.0",
      "model_name": "LayoutModel",
      "state": {}
     },
     "e53fd7abfff8477589da7047388634f2": {
      "model_module": "@jupyter-widgets/base",
      "model_module_version": "1.2.0",
      "model_name": "LayoutModel",
      "state": {
       "width": "50%"
      }
     },
     "e85f84dc4792406e9ae9fa2d058516f8": {
      "model_module": "@jupyter-widgets/controls",
      "model_module_version": "1.5.0",
      "model_name": "DescriptionStyleModel",
      "state": {
       "description_width": ""
      }
     },
     "e9eae4703ba940648ca7cafba1719677": {
      "model_module": "@jupyter-widgets/controls",
      "model_module_version": "1.5.0",
      "model_name": "IntRangeSliderModel",
      "state": {
       "_model_name": "IntRangeSliderModel",
       "_view_name": "IntRangeSliderView",
       "description": "Time Range",
       "layout": "IPY_MODEL_f62aff1d93c44850885465531134e937",
       "max": 4,
       "min": -4,
       "style": "IPY_MODEL_12fb375c5f604de0ab87299d0ca5336a",
       "value": [
        -1,
        0
       ]
      }
     },
     "edd41d51dd77468b98d7ab4e7a08e6af": {
      "model_module": "@jupyter-widgets/base",
      "model_module_version": "1.2.0",
      "model_name": "LayoutModel",
      "state": {
       "width": "95%"
      }
     },
     "edf8560b20b941c89e68528740cae19d": {
      "model_module": "@jupyter-widgets/controls",
      "model_module_version": "1.5.0",
      "model_name": "HTMLModel",
      "state": {
       "layout": "IPY_MODEL_aaa05c420bae4221a5cb7331f43162e6",
       "style": "IPY_MODEL_0fd07ca934614a53b3635822a6fd749f",
       "value": "<h4>Set time range for pivot functions.</h4>"
      }
     },
     "f4342f8f0063468abb29b0b3d1f67c20": {
      "model_module": "@jupyter-widgets/controls",
      "model_module_version": "1.5.0",
      "model_name": "HBoxModel",
      "state": {
       "children": [
        "IPY_MODEL_e9eae4703ba940648ca7cafba1719677",
        "IPY_MODEL_673e367216dd4545be4229fd73404eec"
       ],
       "layout": "IPY_MODEL_cf5e5b60f4d74b759e2b279332dd0df7"
      }
     },
     "f4ce11557e174a9da7a4005d1952d2ac": {
      "model_module": "@jupyter-widgets/controls",
      "model_module_version": "1.5.0",
      "model_name": "VBoxModel",
      "state": {
       "children": [
        "IPY_MODEL_f4342f8f0063468abb29b0b3d1f67c20",
        "IPY_MODEL_38f5f5b94f624264b4952cd15b247a42",
        "IPY_MODEL_b000e0bcb85b4aa99479d4dd123e968b"
       ],
       "layout": "IPY_MODEL_a9da1c2b6dba435baa337d5798a490f4"
      }
     },
     "f62aff1d93c44850885465531134e937": {
      "model_module": "@jupyter-widgets/base",
      "model_module_version": "1.2.0",
      "model_name": "LayoutModel",
      "state": {
       "width": "70%"
      }
     },
     "f8d1c5d99ffc42599a4a283b42a6884a": {
      "model_module": "@jupyter-widgets/controls",
      "model_module_version": "1.5.0",
      "model_name": "TextModel",
      "state": {
       "description": "Query end time (UTC) :  ",
       "layout": "IPY_MODEL_83a0e881412e425b9526299b59f537d8",
       "style": "IPY_MODEL_0c2615d3d65243a5a8feea7a83871506",
       "value": "2021-05-01 02:48:24.304669"
      }
     },
     "fdaf3525ba714daebc8c951bb9cbbe01": {
      "model_module": "@jupyter-widgets/base",
      "model_module_version": "1.2.0",
      "model_name": "LayoutModel",
      "state": {}
     }
    },
    "version_major": 2,
    "version_minor": 0
   }
  }
 },
 "nbformat": 4,
 "nbformat_minor": 4
}
